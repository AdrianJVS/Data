{
  "nbformat": 4,
  "nbformat_minor": 0,
  "metadata": {
    "kernelspec": {
      "display_name": "Python 3",
      "language": "python",
      "name": "python3"
    },
    "language_info": {
      "codemirror_mode": {
        "name": "ipython",
        "version": 3
      },
      "file_extension": ".py",
      "mimetype": "text/x-python",
      "name": "python",
      "nbconvert_exporter": "python",
      "pygments_lexer": "ipython3",
      "version": "3.8.6"
    },
    "colab": {
      "name": "Learning Python for Data Analysis - Useful Code.ipynb",
      "provenance": [],
      "collapsed_sections": []
    }
  },
  "cells": [
    {
      "cell_type": "markdown",
      "metadata": {
        "id": "IV1IbvkecdOJ"
      },
      "source": [
        "# Review the Data"
      ]
    },
    {
      "cell_type": "code",
      "metadata": {
        "id": "C0mEeOklgHm4"
      },
      "source": [
        "# Folders\n",
        "import os\n",
        "os.listdir()\n",
        "os.getcwd()\n",
        "os.chdir(path)\n",
        "\n",
        "#Use when issues loading a file\n",
        "df = pd.read_csv(file, encoding='latin-1',low_memory=False)\n",
        "# File\n",
        "pd.ExcelFile(file).sheet_names\n",
        "df.shape\n",
        "df.info()\n",
        "df.columns or list(df.columns)\n",
        "df['Column Name'].unique() or list(df['Column Name'].unique())\n",
        "type('Value')\n",
        "pd.set_option('display.max_colwidth', None)\n",
        "\n",
        "# Print all data in columns for a specific row\n",
        "print(df.iloc[1])\n",
        "# Print all data in columns for a specific rows\n",
        "print(df.iloc[1:4])\n",
        "# Display a specific cell [Row, Column]\n",
        "print(df.iloc[1,1])\n",
        "\n",
        "# Find a specific row based on criteria\n",
        "print(df.loc[df['Vendor Name'] == \"DONTMOVEIT SRL\"])\n",
        "\n"
      ],
      "execution_count": null,
      "outputs": []
    },
    {
      "cell_type": "markdown",
      "metadata": {
        "id": "N4FqwZ_7cdOU"
      },
      "source": [
        "# Clean the data"
      ]
    },
    {
      "cell_type": "code",
      "metadata": {
        "id": "f3SbcrcwcdOV"
      },
      "source": [
        "df=df.fillna(0)\n",
        "df=df.replace(':','0')\n",
        "\n",
        "#Duplication within selected columns:\n",
        "df.duplicated(['Voucher No','Voucher Line Number', 'Distribution Line Number']).sum()\n",
        "#Duplicated within a single sheet:\n",
        "df.duplicated().sum()\n",
        "#Duplicated in all sheets:\n",
        "dfs = pd.read_excel('2dec.xlsx', sheet_name=None)\n",
        "df = pd.concat(dfs.values())\n",
        "print(df.duplicated().sum())\n",
        "#Display duplicated rows:\n",
        "df[df.duplicated()]\n",
        "#Display the 3rd tab, define row 8 as header, remove rows from 9 til 15\n",
        "pd.read_excel(file, sheet_name=2, header=8, skiprows=np.r_[9:15])\n",
        "#Remove columns based on condtition:\n",
        "df.drop([col for col in df.columns if 'Unnamed:' in col],axis=1,inplace=True)\n",
        "#Rename Columns\n",
        "df = df.rename(columns= {'TIME':'Country'})\n",
        "#Rename column by col number (if issues with hidden characters)\n",
        "df.rename(columns={df.columns[3]: 'new'}, inplace=True)\n",
        "#Replace values:\n",
        "df.replace('Germany (until 1990 former territory of the FRG)','Germany')\n",
        "#Remove rows by index\n",
        "df = df.drop(labels=[29,30,31,54,55,56], axis=0)\n",
        "#Remove columns by index\n",
        "df=df.drop(index=[202,203], axis=1)\n",
        "#Remove thousand separaters from string and convert to int\n",
        "df.Value.replace(',','',inplace=True,regex=True)\n",
        "df.Value=df.Value.astype('int')\n",
        "#Replace a particular cell (19 is an index)\n",
        "dfd.at[19, 'Country'] = 'Ireland'\n",
        "or\n",
        "df.set_value(19, 'Country', 10)\n",
        "#Convert string to float when there are issues with astype\n",
        "df['Alcohol Consumption (litres)']=pd.to_numeric(df['Alcohol Consumption (litres)'], errors='coerce')\n",
        "#Delete multiple columns by index using list\n",
        "delete = list(range(5,20))\n",
        "df=df.drop(df.columns[delete], axis=1)"
      ],
      "execution_count": null,
      "outputs": []
    },
    {
      "cell_type": "markdown",
      "metadata": {
        "id": "9xH0XopccdOX"
      },
      "source": [
        "# Filter and Sort the data"
      ]
    },
    {
      "cell_type": "code",
      "metadata": {
        "id": "_whIDzpzcdOY"
      },
      "source": [
        "#Filter\n",
        "df=df[(df['GEO']=='Poland') & (df['UNIT']=='Number')]\n",
        "df=df.loc[(df['GEO']=='Poland') & (df['UNIT']=='Number'),['GEO','ICCS','Value']]\n",
        "\n",
        "# Filter with filed containing\n",
        "print(df.loc[df['Vendor Name'].str.contains('Car')])\n",
        "# Not contains\n",
        "print(df.loc[~df['Vendor Name'].str.contains('Car')])\n",
        "\n",
        "# Filter in ignoring capitalisation using Regular Expressions\n",
        "print(df.loc[df['Vendor Name'].str.contains('Car|Auto', flags=re.I, regex=True)])\n",
        "\n",
        "# Filter - starting with a letter\n",
        "print(df.loc[df['Vendor Name'].str.contains('^Car[a-z]*', flags=re.I, regex=True)])\n",
        "\n",
        "\n",
        "#Sort  by multiple columns\n",
        "print(df.sort_values(['Vendor Name','Vendor Number'], ascending=[1,0]))\n",
        "\n",
        "# (1) Using isna() to select all rows with NaN under a single DataFrame column:\n",
        "df[df['column name'].isna()]\n",
        "# (2) Using isnull() to select all rows with NaN under a single DataFrame column:\n",
        "df[df['column name'].isnull()]\n",
        "# (3) Using isna() to select all rows with NaN under an entire DataFrame:\n",
        "df[df.isna().any(axis=1)]\n",
        "# (4) Using isnull() to select all rows with NaN under an entire DataFrame:\n",
        "df[df.isnull().any(axis=1)]\n",
        "\n",
        "#Filter out all rows that contain a string in a column (na=False will skip NaNs)\n",
        "df[~df['Country'].str.contains(\"Region\")]\n",
        "#Filter out all rows that contain a string ignoring capitalisation\n",
        "df[~df['Country'].str.contains(\"Region\", flags=re.I, regex=True)]\n",
        "# (re.I is short for re.IGNORECASE)"
      ],
      "execution_count": null,
      "outputs": []
    },
    {
      "cell_type": "markdown",
      "metadata": {
        "id": "WtEmGxPacdOY"
      },
      "source": [
        "# Create Folder(s)"
      ]
    },
    {
      "cell_type": "code",
      "metadata": {
        "id": "CPHjyMA8cdOZ"
      },
      "source": [
        "import os\n",
        "\n",
        "# Create a folder in workig folder\n",
        "path = \"New One\"\n",
        "os.mkdir(path)\n",
        "\n",
        "# Create a folder with subfolder (exist_ok = True will prevent the error: folder already exists)\n",
        "path = \"New One/New Folder\"\n",
        "os.makedirs(path, exist_ok = True)"
      ],
      "execution_count": null,
      "outputs": []
    },
    {
      "cell_type": "markdown",
      "metadata": {
        "id": "x5XnPow0cdOZ"
      },
      "source": [
        "# Manipulate the data"
      ]
    },
    {
      "cell_type": "code",
      "metadata": {
        "id": "5bdMw6n0cdOa"
      },
      "source": [
        "# Add Index\n",
        "df.set_index('Country', inplace=True)\n",
        "# Replace columns with rows\n",
        "dft=df.transpose()\n",
        "# Change into tuple\n",
        "year = tuple(list(dft['Year']))\n",
        "# Change into dictionary\n",
        "dft.to_dict()\n",
        "# Add column\n",
        "dfd.columns=['Country']"
      ],
      "execution_count": null,
      "outputs": []
    },
    {
      "cell_type": "markdown",
      "metadata": {
        "id": "Ppt3ve4JcdOa"
      },
      "source": [
        "# Charts"
      ]
    },
    {
      "cell_type": "code",
      "metadata": {
        "id": "lYDr-R3CcdOb"
      },
      "source": [
        "# By default plot will use rows as X-axis, to use columns use this:\n",
        "df.T.plot()\n",
        "#Choropleth map\n",
        "import plotly.graph_objects as go\n",
        "\n",
        "fig = go.Figure(data=go.Choropleth(\n",
        "    locations=df_c['State'], # Spatial coordinates\n",
        "    z = df_c['Freq'].astype('int64'), # Data to be color-coded\n",
        "    locationmode = 'USA-states', # set of locations match entries in `locations`\n",
        "    colorscale = 'Reds',\n",
        "    colorbar_title = \"Sightings\",\n",
        "))\n",
        "\n",
        "fig.update_layout(\n",
        "    title_text = 'Number of UFO sightings between 1930 and 2000',\n",
        "    geo_scope='usa', # limite map scope to USA\n",
        ")\n",
        "\n",
        "fig.show()\n",
        "\n",
        "##Plotly bar chart\n",
        "import plotly.express as px\n",
        "fig=px.bar(df_region, x='Country',y='Homicides (per 100 000 population)')\n",
        "fig"
      ],
      "execution_count": null,
      "outputs": []
    },
    {
      "cell_type": "markdown",
      "metadata": {
        "id": "Qcxm9GiGcdOb"
      },
      "source": [
        "# Calculations"
      ]
    },
    {
      "cell_type": "code",
      "metadata": {
        "id": "XQNnOoS1cdOc"
      },
      "source": [
        "# YOY %\n",
        "dft['YoY'] = dft.pct_change().mul(100).round(2).astype(str)+'%'"
      ],
      "execution_count": null,
      "outputs": []
    },
    {
      "cell_type": "markdown",
      "metadata": {
        "id": "Td-Nffcyqa_g"
      },
      "source": [
        "**Reference**"
      ]
    },
    {
      "cell_type": "code",
      "metadata": {
        "id": "UfTMnswVqcUN"
      },
      "source": [
        "#Join\n",
        "dff=pd.merge(dfc, dfp_col, how='inner', left_on='Country', right_on='Country (or dependency)')\n",
        "#Check if value exists in another column or df and then filter depending on the output\n",
        "df['Country'].isin(dfd['Country'])\n",
        "df_eu = df[df['EU?']==True]"
      ],
      "execution_count": null,
      "outputs": []
    },
    {
      "cell_type": "markdown",
      "metadata": {
        "id": "rvzvBhiQ0LEB"
      },
      "source": [
        "Web Scraping"
      ]
    },
    {
      "cell_type": "code",
      "metadata": {
        "id": "mQKulmwo0V9s"
      },
      "source": [
        "import requests\n",
        "from bs4 import BeautifulSoup\n",
        "import pandas as pd\n",
        "\n",
        "website_url = requests.get('https://en.wikipedia.org/wiki/List_of_European_Union_member_states_by_population').text\n",
        "soup = BeautifulSoup(website_url,'lxml')\n",
        "\n",
        "my_table = soup.find('table',{'class':'sortable wikitable'})\n",
        "links = my_table.findAll('a')\n",
        "\n",
        "countries = []\n",
        "for link in links:\n",
        "  countries.append(link.get('title'))\n",
        "\n",
        "dfc = pd.DataFrame()\n",
        "dfc['countries'] = countries\n",
        "dfc"
      ],
      "execution_count": null,
      "outputs": []
    }
  ]
}